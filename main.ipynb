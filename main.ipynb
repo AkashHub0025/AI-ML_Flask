{
 "cells": [
  {
   "cell_type": "code",
   "execution_count": 1,
   "metadata": {},
   "outputs": [],
   "source": [
    "import numpy as np\n",
    "import pandas as pd\n",
    "from flask import Flask,request,render_template\n",
    "from sklearn.feature_extraction.text import CountVectorizer\n",
    "from sklearn.metrics.pairwise import cosine_similarity"
   ]
  },
  {
   "cell_type": "code",
   "execution_count": 2,
   "metadata": {},
   "outputs": [],
   "source": [
    "def create_sim():\n",
    "    data = pd.read_csv('movie_data.csv')\n",
    "    # creating a count matrix\n",
    "    cv = CountVectorizer()\n",
    "    count_matrix = cv.fit_transform(data['comb'])\n",
    "    # creating a similarity score matrix\n",
    "    sim = cosine_similarity(count_matrix)\n",
    "    return data,sim\n"
   ]
  },
  {
   "cell_type": "code",
   "execution_count": 3,
   "metadata": {},
   "outputs": [],
   "source": [
    "def rcmd(m):\n",
    "    m = m.lower()\n",
    "    # check if data and sim are already assigned\n",
    "    try:\n",
    "        data.head()\n",
    "        sim.shape\n",
    "    except:\n",
    "        data, sim = create_sim()\n",
    "    # check if the movie is in our database or not\n",
    "    if m not in data['movie_title'].unique():\n",
    "        return('This movie is not in our database.\\nPlease check if you spelled it correct.')\n",
    "    else:\n",
    "        # getting the index of the movie in the dataframe\n",
    "        i = data.loc[data['movie_title']==m].index[0]\n",
    "\n",
    "        # fetching the row containing similarity scores of the movie\n",
    "        # from similarity matrix and enumerate it\n",
    "        lst = list(enumerate(sim[i]))\n",
    "\n",
    "        # sorting this list in decreasing order based on the similarity score\n",
    "        lst = sorted(lst, key = lambda x:x[1] ,reverse=True)\n",
    "\n",
    "        # taking top 1- movie scores\n",
    "        # not taking the first index since it is the same movie\n",
    "        lst = lst[1:11]\n",
    "\n",
    "        # making an empty list that will containg all 10 movie recommendations\n",
    "        l = []\n",
    "        for i in range(len(lst)):\n",
    "            a = lst[i][0]\n",
    "            l.append(data['movie_title'][a])\n",
    "        return l\n",
    "\n"
   ]
  },
  {
   "cell_type": "code",
   "execution_count": 4,
   "metadata": {},
   "outputs": [],
   "source": [
    "app=Flask(__name__)"
   ]
  },
  {
   "cell_type": "code",
   "execution_count": 5,
   "metadata": {},
   "outputs": [],
   "source": [
    "@app.route(\"/\")\n",
    "def home():\n",
    "    return render_template('home.html')"
   ]
  },
  {
   "cell_type": "code",
   "execution_count": 6,
   "metadata": {},
   "outputs": [],
   "source": [
    "@app.route(\"/recommend\")\n",
    "def recommend():\n",
    "    movie = request.args.get('movie')\n",
    "    r = rcmd(movie)\n",
    "    movie = movie.upper()\n",
    "    if type(r)==type('string'):\n",
    "        return render_template('recommend.html',movie=movie,r=r,t='s')\n",
    "    else:\n",
    "        return render_template('recommend.html',movie=movie,r=r,t='l')\n"
   ]
  },
  {
   "cell_type": "code",
   "execution_count": null,
   "metadata": {},
   "outputs": [
    {
     "name": "stdout",
     "output_type": "stream",
     "text": [
      " * Serving Flask app \"__main__\" (lazy loading)\n",
      " * Environment: production\n",
      "   WARNING: This is a development server. Do not use it in a production deployment.\n",
      "   Use a production WSGI server instead.\n",
      " * Debug mode: off\n"
     ]
    },
    {
     "name": "stderr",
     "output_type": "stream",
     "text": [
      " * Running on http://127.0.0.1:5000/ (Press CTRL+C to quit)\n",
      "127.0.0.1 - - [29/Nov/2020 11:07:02] \"\u001b[37mGET / HTTP/1.1\u001b[0m\" 200 -\n",
      "127.0.0.1 - - [29/Nov/2020 11:07:09] \"\u001b[37mGET /recommend?movie=liar+liar HTTP/1.1\u001b[0m\" 200 -\n",
      "127.0.0.1 - - [29/Nov/2020 11:40:24] \"\u001b[37mGET / HTTP/1.1\u001b[0m\" 200 -\n",
      "127.0.0.1 - - [29/Nov/2020 11:41:28] \"\u001b[37mGET /recommend?movie=avenger HTTP/1.1\u001b[0m\" 200 -\n",
      "[2020-11-29 11:41:34,366] ERROR in app: Exception on /recommend [GET]\n",
      "Traceback (most recent call last):\n",
      "  File \"C:\\Users\\JUGGERNAUT\\anaconda3\\envs\\AI_Practice\\lib\\site-packages\\flask\\app.py\", line 2447, in wsgi_app\n",
      "    response = self.full_dispatch_request()\n",
      "  File \"C:\\Users\\JUGGERNAUT\\anaconda3\\envs\\AI_Practice\\lib\\site-packages\\flask\\app.py\", line 1952, in full_dispatch_request\n",
      "    rv = self.handle_user_exception(e)\n",
      "  File \"C:\\Users\\JUGGERNAUT\\anaconda3\\envs\\AI_Practice\\lib\\site-packages\\flask\\app.py\", line 1821, in handle_user_exception\n",
      "    reraise(exc_type, exc_value, tb)\n",
      "  File \"C:\\Users\\JUGGERNAUT\\anaconda3\\envs\\AI_Practice\\lib\\site-packages\\flask\\_compat.py\", line 39, in reraise\n",
      "    raise value\n",
      "  File \"C:\\Users\\JUGGERNAUT\\anaconda3\\envs\\AI_Practice\\lib\\site-packages\\flask\\app.py\", line 1950, in full_dispatch_request\n",
      "    rv = self.dispatch_request()\n",
      "  File \"C:\\Users\\JUGGERNAUT\\anaconda3\\envs\\AI_Practice\\lib\\site-packages\\flask\\app.py\", line 1936, in dispatch_request\n",
      "    return self.view_functions[rule.endpoint](**req.view_args)\n",
      "  File \"<ipython-input-6-759131e9c00c>\", line 4, in recommend\n",
      "    r = rcmd(movie)\n",
      "  File \"<ipython-input-3-bc35fea7cfee>\", line 2, in rcmd\n",
      "    m = m.lower()\n",
      "AttributeError: 'NoneType' object has no attribute 'lower'\n",
      "127.0.0.1 - - [29/Nov/2020 11:41:34] \"\u001b[1m\u001b[35mGET /recommend HTTP/1.1\u001b[0m\" 500 -\n",
      "127.0.0.1 - - [29/Nov/2020 11:41:34] \"\u001b[33mGET /favicon.ico HTTP/1.1\u001b[0m\" 404 -\n",
      "127.0.0.1 - - [29/Nov/2020 11:44:51] \"\u001b[37mGET /recommend?movie=liar+liar HTTP/1.1\u001b[0m\" 200 -\n",
      "127.0.0.1 - - [29/Nov/2020 11:45:03] \"\u001b[37mGET /recommend?movie=lp HTTP/1.1\u001b[0m\" 200 -\n",
      "[2020-11-29 11:45:05,771] ERROR in app: Exception on /recommend [GET]\n",
      "Traceback (most recent call last):\n",
      "  File \"C:\\Users\\JUGGERNAUT\\anaconda3\\envs\\AI_Practice\\lib\\site-packages\\flask\\app.py\", line 2447, in wsgi_app\n",
      "    response = self.full_dispatch_request()\n",
      "  File \"C:\\Users\\JUGGERNAUT\\anaconda3\\envs\\AI_Practice\\lib\\site-packages\\flask\\app.py\", line 1952, in full_dispatch_request\n",
      "    rv = self.handle_user_exception(e)\n",
      "  File \"C:\\Users\\JUGGERNAUT\\anaconda3\\envs\\AI_Practice\\lib\\site-packages\\flask\\app.py\", line 1821, in handle_user_exception\n",
      "    reraise(exc_type, exc_value, tb)\n",
      "  File \"C:\\Users\\JUGGERNAUT\\anaconda3\\envs\\AI_Practice\\lib\\site-packages\\flask\\_compat.py\", line 39, in reraise\n",
      "    raise value\n",
      "  File \"C:\\Users\\JUGGERNAUT\\anaconda3\\envs\\AI_Practice\\lib\\site-packages\\flask\\app.py\", line 1950, in full_dispatch_request\n",
      "    rv = self.dispatch_request()\n",
      "  File \"C:\\Users\\JUGGERNAUT\\anaconda3\\envs\\AI_Practice\\lib\\site-packages\\flask\\app.py\", line 1936, in dispatch_request\n",
      "    return self.view_functions[rule.endpoint](**req.view_args)\n",
      "  File \"<ipython-input-6-759131e9c00c>\", line 4, in recommend\n",
      "    r = rcmd(movie)\n",
      "  File \"<ipython-input-3-bc35fea7cfee>\", line 2, in rcmd\n",
      "    m = m.lower()\n",
      "AttributeError: 'NoneType' object has no attribute 'lower'\n",
      "127.0.0.1 - - [29/Nov/2020 11:45:05] \"\u001b[1m\u001b[35mGET /recommend HTTP/1.1\u001b[0m\" 500 -\n"
     ]
    }
   ],
   "source": [
    "if __name__ == '__main__':\n",
    "    app.run()\n"
   ]
  }
 ],
 "metadata": {
  "kernelspec": {
   "display_name": "Python 3",
   "language": "python",
   "name": "python3"
  },
  "language_info": {
   "codemirror_mode": {
    "name": "ipython",
    "version": 3
   },
   "file_extension": ".py",
   "mimetype": "text/x-python",
   "name": "python",
   "nbconvert_exporter": "python",
   "pygments_lexer": "ipython3",
   "version": "3.7.7"
  }
 },
 "nbformat": 4,
 "nbformat_minor": 4
}
